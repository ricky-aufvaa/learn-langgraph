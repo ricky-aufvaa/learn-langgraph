{
 "cells": [
  {
   "cell_type": "markdown",
   "metadata": {},
   "source": [
    "# LangGraph Chatbots with Persistent SQLite Memory\n",
    "\n",
    "This notebook demonstrates how to build conversational chatbots with persistent memory using SQLite:\n",
    "\n",
    "- **SqliteSaver**: Persistent conversation storage\n",
    "- **Database Persistence**: Conversations survive application restarts\n",
    "- **Production Ready**: Suitable for real-world applications\n",
    "- **Thread Management**: Separate conversation contexts with persistence\n",
    "- **Interactive Chat**: Continuous conversation loop\n",
    "\n",
    "## Use Case: Production Conversational AI\n",
    "\n",
    "We'll build a chatbot that:\n",
    "1. **Persists Conversations**: Survives application restarts\n",
    "2. **Handles Multiple Users**: Thread-based isolation with database storage\n",
    "3. **Interactive Interface**: Continuous chat experience\n",
    "4. **Production Ready**: Suitable for deployment\n",
    "\n",
    "This pattern is essential for:\n",
    "- **Production Chatbots**: Need persistent conversation history\n",
    "- **Customer Support Systems**: Long-term conversation tracking\n",
    "- **Multi-session Applications**: Users return to previous conversations\n",
    "- **Analytics and Monitoring**: Historical conversation data analysis"
   ]
  },
  {
   "cell_type": "markdown",
   "metadata": {},
   "source": [
    "## 1. Essential Imports and Dependencies\n",
    "\n",
    "First, let's install the required SQLite checkpoint package and import necessary components:"
   ]
  },
  {
   "cell_type": "code",
   "execution_count": 1,
   "metadata": {},
   "outputs": [
    {
     "name": "stdout",
     "output_type": "stream",
     "text": [
      "Requirement already satisfied: langgraph-checkpoint-sqlite in e:\\sarabjot\\saleassist\\agentic code\\.venv\\lib\\site-packages (2.0.11)\n",
      "Requirement already satisfied: aiosqlite>=0.20 in e:\\sarabjot\\saleassist\\agentic code\\.venv\\lib\\site-packages (from langgraph-checkpoint-sqlite) (0.21.0)\n",
      "Requirement already satisfied: langgraph-checkpoint<3.0.0,>=2.0.21 in e:\\sarabjot\\saleassist\\agentic code\\.venv\\lib\\site-packages (from langgraph-checkpoint-sqlite) (2.1.1)\n",
      "Requirement already satisfied: sqlite-vec>=0.1.6 in e:\\sarabjot\\saleassist\\agentic code\\.venv\\lib\\site-packages (from langgraph-checkpoint-sqlite) (0.1.6)\n",
      "Requirement already satisfied: typing_extensions>=4.0 in e:\\sarabjot\\saleassist\\agentic code\\.venv\\lib\\site-packages (from aiosqlite>=0.20->langgraph-checkpoint-sqlite) (4.14.1)\n",
      "Requirement already satisfied: langchain-core>=0.2.38 in e:\\sarabjot\\saleassist\\agentic code\\.venv\\lib\\site-packages (from langgraph-checkpoint<3.0.0,>=2.0.21->langgraph-checkpoint-sqlite) (0.3.74)\n",
      "Requirement already satisfied: ormsgpack>=1.10.0 in e:\\sarabjot\\saleassist\\agentic code\\.venv\\lib\\site-packages (from langgraph-checkpoint<3.0.0,>=2.0.21->langgraph-checkpoint-sqlite) (1.10.0)\n",
      "Requirement already satisfied: langsmith>=0.3.45 in e:\\sarabjot\\saleassist\\agentic code\\.venv\\lib\\site-packages (from langchain-core>=0.2.38->langgraph-checkpoint<3.0.0,>=2.0.21->langgraph-checkpoint-sqlite) (0.4.13)\n",
      "Requirement already satisfied: tenacity!=8.4.0,<10.0.0,>=8.1.0 in e:\\sarabjot\\saleassist\\agentic code\\.venv\\lib\\site-packages (from langchain-core>=0.2.38->langgraph-checkpoint<3.0.0,>=2.0.21->langgraph-checkpoint-sqlite) (9.1.2)\n",
      "Requirement already satisfied: jsonpatch<2.0,>=1.33 in e:\\sarabjot\\saleassist\\agentic code\\.venv\\lib\\site-packages (from langchain-core>=0.2.38->langgraph-checkpoint<3.0.0,>=2.0.21->langgraph-checkpoint-sqlite) (1.33)\n",
      "Requirement already satisfied: PyYAML>=5.3 in e:\\sarabjot\\saleassist\\agentic code\\.venv\\lib\\site-packages (from langchain-core>=0.2.38->langgraph-checkpoint<3.0.0,>=2.0.21->langgraph-checkpoint-sqlite) (6.0.2)\n",
      "Requirement already satisfied: packaging>=23.2 in e:\\sarabjot\\saleassist\\agentic code\\.venv\\lib\\site-packages (from langchain-core>=0.2.38->langgraph-checkpoint<3.0.0,>=2.0.21->langgraph-checkpoint-sqlite) (25.0)\n",
      "Requirement already satisfied: pydantic>=2.7.4 in e:\\sarabjot\\saleassist\\agentic code\\.venv\\lib\\site-packages (from langchain-core>=0.2.38->langgraph-checkpoint<3.0.0,>=2.0.21->langgraph-checkpoint-sqlite) (2.11.7)\n",
      "Requirement already satisfied: jsonpointer>=1.9 in e:\\sarabjot\\saleassist\\agentic code\\.venv\\lib\\site-packages (from jsonpatch<2.0,>=1.33->langchain-core>=0.2.38->langgraph-checkpoint<3.0.0,>=2.0.21->langgraph-checkpoint-sqlite) (3.0.0)\n",
      "Requirement already satisfied: httpx<1,>=0.23.0 in e:\\sarabjot\\saleassist\\agentic code\\.venv\\lib\\site-packages (from langsmith>=0.3.45->langchain-core>=0.2.38->langgraph-checkpoint<3.0.0,>=2.0.21->langgraph-checkpoint-sqlite) (0.28.1)\n",
      "Requirement already satisfied: orjson>=3.9.14 in e:\\sarabjot\\saleassist\\agentic code\\.venv\\lib\\site-packages (from langsmith>=0.3.45->langchain-core>=0.2.38->langgraph-checkpoint<3.0.0,>=2.0.21->langgraph-checkpoint-sqlite) (3.11.1)\n",
      "Requirement already satisfied: requests-toolbelt>=1.0.0 in e:\\sarabjot\\saleassist\\agentic code\\.venv\\lib\\site-packages (from langsmith>=0.3.45->langchain-core>=0.2.38->langgraph-checkpoint<3.0.0,>=2.0.21->langgraph-checkpoint-sqlite) (1.0.0)\n",
      "Requirement already satisfied: requests>=2.0.0 in e:\\sarabjot\\saleassist\\agentic code\\.venv\\lib\\site-packages (from langsmith>=0.3.45->langchain-core>=0.2.38->langgraph-checkpoint<3.0.0,>=2.0.21->langgraph-checkpoint-sqlite) (2.32.4)\n",
      "Requirement already satisfied: zstandard>=0.23.0 in e:\\sarabjot\\saleassist\\agentic code\\.venv\\lib\\site-packages (from langsmith>=0.3.45->langchain-core>=0.2.38->langgraph-checkpoint<3.0.0,>=2.0.21->langgraph-checkpoint-sqlite) (0.23.0)\n",
      "Requirement already satisfied: annotated-types>=0.6.0 in e:\\sarabjot\\saleassist\\agentic code\\.venv\\lib\\site-packages (from pydantic>=2.7.4->langchain-core>=0.2.38->langgraph-checkpoint<3.0.0,>=2.0.21->langgraph-checkpoint-sqlite) (0.7.0)\n",
      "Requirement already satisfied: pydantic-core==2.33.2 in e:\\sarabjot\\saleassist\\agentic code\\.venv\\lib\\site-packages (from pydantic>=2.7.4->langchain-core>=0.2.38->langgraph-checkpoint<3.0.0,>=2.0.21->langgraph-checkpoint-sqlite) (2.33.2)\n",
      "Requirement already satisfied: typing-inspection>=0.4.0 in e:\\sarabjot\\saleassist\\agentic code\\.venv\\lib\\site-packages (from pydantic>=2.7.4->langchain-core>=0.2.38->langgraph-checkpoint<3.0.0,>=2.0.21->langgraph-checkpoint-sqlite) (0.4.1)\n",
      "Requirement already satisfied: anyio in e:\\sarabjot\\saleassist\\agentic code\\.venv\\lib\\site-packages (from httpx<1,>=0.23.0->langsmith>=0.3.45->langchain-core>=0.2.38->langgraph-checkpoint<3.0.0,>=2.0.21->langgraph-checkpoint-sqlite) (4.10.0)\n",
      "Requirement already satisfied: certifi in e:\\sarabjot\\saleassist\\agentic code\\.venv\\lib\\site-packages (from httpx<1,>=0.23.0->langsmith>=0.3.45->langchain-core>=0.2.38->langgraph-checkpoint<3.0.0,>=2.0.21->langgraph-checkpoint-sqlite) (2025.8.3)\n",
      "Requirement already satisfied: httpcore==1.* in e:\\sarabjot\\saleassist\\agentic code\\.venv\\lib\\site-packages (from httpx<1,>=0.23.0->langsmith>=0.3.45->langchain-core>=0.2.38->langgraph-checkpoint<3.0.0,>=2.0.21->langgraph-checkpoint-sqlite) (1.0.9)\n",
      "Requirement already satisfied: idna in e:\\sarabjot\\saleassist\\agentic code\\.venv\\lib\\site-packages (from httpx<1,>=0.23.0->langsmith>=0.3.45->langchain-core>=0.2.38->langgraph-checkpoint<3.0.0,>=2.0.21->langgraph-checkpoint-sqlite) (3.10)\n",
      "Requirement already satisfied: h11>=0.16 in e:\\sarabjot\\saleassist\\agentic code\\.venv\\lib\\site-packages (from httpcore==1.*->httpx<1,>=0.23.0->langsmith>=0.3.45->langchain-core>=0.2.38->langgraph-checkpoint<3.0.0,>=2.0.21->langgraph-checkpoint-sqlite) (0.16.0)\n",
      "Requirement already satisfied: charset_normalizer<4,>=2 in e:\\sarabjot\\saleassist\\agentic code\\.venv\\lib\\site-packages (from requests>=2.0.0->langsmith>=0.3.45->langchain-core>=0.2.38->langgraph-checkpoint<3.0.0,>=2.0.21->langgraph-checkpoint-sqlite) (3.4.3)\n",
      "Requirement already satisfied: urllib3<3,>=1.21.1 in e:\\sarabjot\\saleassist\\agentic code\\.venv\\lib\\site-packages (from requests>=2.0.0->langsmith>=0.3.45->langchain-core>=0.2.38->langgraph-checkpoint<3.0.0,>=2.0.21->langgraph-checkpoint-sqlite) (2.5.0)\n",
      "Requirement already satisfied: sniffio>=1.1 in e:\\sarabjot\\saleassist\\agentic code\\.venv\\lib\\site-packages (from anyio->httpx<1,>=0.23.0->langsmith>=0.3.45->langchain-core>=0.2.38->langgraph-checkpoint<3.0.0,>=2.0.21->langgraph-checkpoint-sqlite) (1.3.1)\n"
     ]
    },
    {
     "name": "stderr",
     "output_type": "stream",
     "text": [
      "\n",
      "[notice] A new release of pip is available: 24.0 -> 25.2\n",
      "[notice] To update, run: python.exe -m pip install --upgrade pip\n"
     ]
    }
   ],
   "source": [
    "# Install the SQLite checkpoint package\n",
    "!pip install langgraph-checkpoint-sqlite"
   ]
  },
  {
   "cell_type": "code",
   "execution_count": 2,
   "metadata": {},
   "outputs": [],
   "source": [
    "from langgraph.graph import StateGraph, START, END\n",
    "from typing import TypedDict, Annotated\n",
    "from langgraph.graph.message import add_messages\n",
    "from langgraph.checkpoint.sqlite import SqliteSaver\n",
    "from IPython.display import display, Image\n",
    "import sqlite3\n",
    "import os"
   ]
  },
  {
   "cell_type": "markdown",
   "metadata": {},
   "source": [
    "## 2. State Definition\n",
    "\n",
    "We use the same state definition as the previous notebook, but now it will be persisted to SQLite.\n",
    "\n",
    "### Persistence Benefits:\n",
    "- **Durability**: Conversations survive application crashes\n",
    "- **Scalability**: Can handle large conversation histories\n",
    "- **Analytics**: Query conversation data for insights\n",
    "- **Backup**: Database can be backed up and restored"
   ]
  },
  {
   "cell_type": "code",
   "execution_count": 3,
   "metadata": {},
   "outputs": [],
   "source": [
    "class MyState(TypedDict):\n",
    "    \"\"\"State definition for our persistent conversational chatbot.\n",
    "    \n",
    "    This state will be automatically serialized and stored in SQLite,\n",
    "    allowing conversations to persist across application restarts.\n",
    "    \"\"\"\n",
    "    messages: Annotated[list, add_messages]"
   ]
  },
  {
   "cell_type": "markdown",
   "metadata": {},
   "source": [
    "## 3. SQLite Database Setup\n",
    "\n",
    "**SqliteSaver** provides persistent storage using SQLite database.\n",
    "\n",
    "### Database Configuration:\n",
    "- **File Location**: `checkpointer.sqlite` in the notebooks directory\n",
    "- **Thread Safety**: `check_same_thread=False` for multi-threading\n",
    "- **Automatic Schema**: SqliteSaver creates necessary tables\n",
    "\n",
    "### Production Considerations:\n",
    "- **Database Path**: Use absolute paths in production\n",
    "- **Backup Strategy**: Regular database backups\n",
    "- **Connection Pooling**: For high-concurrency applications\n",
    "- **Migration Strategy**: Handle schema changes over time\n",
    "\n",
    "### Alternative Storage Options:\n",
    "- **PostgreSQL**: For larger scale applications\n",
    "- **Redis**: For distributed systems\n",
    "- **MongoDB**: For document-based storage\n",
    "- **Cloud Databases**: AWS RDS, Google Cloud SQL, etc."
   ]
  },
  {
   "cell_type": "code",
   "execution_count": 4,
   "metadata": {},
   "outputs": [
    {
     "name": "stdout",
     "output_type": "stream",
     "text": [
      "✅ SQLite database connection established\n",
      "Database file: checkpointer.sqlite\n",
      "Connection: <sqlite3.Connection object at 0x000002C16C8C2C50>\n"
     ]
    }
   ],
   "source": [
    "# Create SQLite connection for persistent storage\n",
    "conn = sqlite3.connect(\"checkpointer.sqlite\", check_same_thread=False)\n",
    "\n",
    "print(\"✅ SQLite database connection established\")\n",
    "print(f\"Database file: checkpointer.sqlite\")\n",
    "print(f\"Connection: {conn}\")"
   ]
  },
  {
   "cell_type": "markdown",
   "metadata": {},
   "source": [
    "## 4. LLM Setup\n",
    "\n",
    "Same LLM configuration as previous notebooks, using AWS Bedrock with Claude."
   ]
  },
  {
   "cell_type": "code",
   "execution_count": 5,
   "metadata": {},
   "outputs": [],
   "source": [
    "from dotenv import load_dotenv\n",
    "from langchain_aws import ChatBedrock\n",
    "\n",
    "load_dotenv()\n",
    "\n",
    "def get_chat_model():\n",
    "    \"\"\"Initialize AWS Bedrock ChatBedrock model.\n",
    "    \n",
    "    Returns:\n",
    "        ChatBedrock: Configured LLM instance for conversations\n",
    "    \"\"\"\n",
    "    llm = ChatBedrock(\n",
    "        model=\"us.anthropic.claude-3-7-sonnet-20250219-v1:0\",\n",
    "        aws_access_key_id=os.getenv(\"AWS_ACCESS_KEY_ID\"),\n",
    "        aws_secret_access_key=os.getenv(\"AWS_SECRET_ACCESS_KEY\"),\n",
    "        region=\"us-east-1\"\n",
    "    )\n",
    "    return llm"
   ]
  },
  {
   "cell_type": "markdown",
   "metadata": {},
   "source": [
    "## 5. Conversation Chain\n",
    "\n",
    "Enhanced conversation chain with better system prompt for persistent conversations."
   ]
  },
  {
   "cell_type": "code",
   "execution_count": 6,
   "metadata": {},
   "outputs": [],
   "source": [
    "from langchain.prompts import ChatPromptTemplate, MessagesPlaceholder\n",
    "\n",
    "def conversation_chain():\n",
    "    \"\"\"Create a conversation chain optimized for persistent conversations.\n",
    "    \n",
    "    This chain is designed for long-term conversations that may\n",
    "    span multiple sessions and application restarts.\n",
    "    \n",
    "    Returns:\n",
    "        Chain that processes conversation messages with persistence awareness\n",
    "    \"\"\"\n",
    "    llm = get_chat_model()\n",
    "    \n",
    "    prompt = ChatPromptTemplate.from_messages([\n",
    "        (\"system\", \n",
    "         \"You are a helpful and persistent chatbot assistant. \"\n",
    "         \"You maintain conversation context across sessions and remember user information. \"\n",
    "         \"Be conversational, friendly, and acknowledge when users return to previous conversations. \"\n",
    "         \"If this seems like a continuation of a previous conversation, reference relevant context naturally. \"\n",
    "         \"Always be helpful and provide thoughtful responses based on the full conversation history.\"),\n",
    "        MessagesPlaceholder(variable_name=\"messages\")\n",
    "    ])\n",
    "    \n",
    "    return prompt | llm"
   ]
  },
  {
   "cell_type": "markdown",
   "metadata": {},
   "source": [
    "## 6. Conversation Node\n",
    "\n",
    "Same node implementation as before - the persistence is handled transparently by the SqliteSaver."
   ]
  },
  {
   "cell_type": "code",
   "execution_count": 7,
   "metadata": {},
   "outputs": [],
   "source": [
    "def conversation_node(state: MyState) -> MyState:\n",
    "    \"\"\"Process conversation messages with persistent storage.\n",
    "    \n",
    "    This node works identically to the memory-based version,\n",
    "    but the SqliteSaver automatically handles persistence.\n",
    "    \n",
    "    Args:\n",
    "        state: Current state with conversation messages\n",
    "        \n",
    "    Returns:\n",
    "        State update with the chatbot's response message\n",
    "    \"\"\"\n",
    "    response = conversation_chain().invoke({\"messages\": state[\"messages\"]})\n",
    "    return {\"messages\": response}"
   ]
  },
  {
   "cell_type": "markdown",
   "metadata": {},
   "source": [
    "## 7. Memory Configuration with SqliteSaver\n",
    "\n",
    "**SqliteSaver** replaces MemorySaver for persistent storage.\n",
    "\n",
    "### Key Differences from MemorySaver:\n",
    "- **Persistence**: Data survives application restarts\n",
    "- **Scalability**: Can handle larger conversation histories\n",
    "- **Concurrency**: Supports multiple concurrent users\n",
    "- **Durability**: Data is written to disk immediately\n",
    "\n",
    "### Thread Management:\n",
    "- **Same API**: Thread IDs work the same way\n",
    "- **Persistent Threads**: Thread conversations are stored permanently\n",
    "- **Cross-Session**: Users can resume conversations later"
   ]
  },
  {
   "cell_type": "code",
   "execution_count": 8,
   "metadata": {},
   "outputs": [
    {
     "name": "stdout",
     "output_type": "stream",
     "text": [
      "✅ SqliteSaver memory configuration ready\n",
      "Thread ID: persistent_user_1\n",
      "💾 Conversations will be saved to SQLite database\n"
     ]
    }
   ],
   "source": [
    "# Initialize SqliteSaver with our database connection\n",
    "memory = SqliteSaver(conn)\n",
    "\n",
    "# Configuration for thread management (same as before)\n",
    "config = {\n",
    "    \"configurable\": {\n",
    "        \"thread_id\": \"persistent_user_1\"  # This conversation will persist\n",
    "    }\n",
    "}\n",
    "\n",
    "print(\"✅ SqliteSaver memory configuration ready\")\n",
    "print(f\"Thread ID: {config['configurable']['thread_id']}\")\n",
    "print(\"💾 Conversations will be saved to SQLite database\")"
   ]
  },
  {
   "cell_type": "markdown",
   "metadata": {},
   "source": [
    "## 8. Building the Graph\n",
    "\n",
    "Same graph structure as before, but now with persistent memory."
   ]
  },
  {
   "cell_type": "code",
   "execution_count": 9,
   "metadata": {},
   "outputs": [
    {
     "name": "stdout",
     "output_type": "stream",
     "text": [
      "✅ Graph compiled successfully with persistent SQLite memory!\n"
     ]
    }
   ],
   "source": [
    "# Build the conversation graph with persistent memory\n",
    "graph = StateGraph(MyState)\n",
    "\n",
    "# Add our conversation node\n",
    "graph.add_node(\"conversation\", conversation_node)\n",
    "\n",
    "# Set up the flow: START → conversation → END\n",
    "graph.add_edge(START, \"conversation\")\n",
    "graph.add_edge(\"conversation\", END)\n",
    "\n",
    "# Compile with SqliteSaver checkpointer\n",
    "app = graph.compile(checkpointer=memory)\n",
    "\n",
    "print(\"✅ Graph compiled successfully with persistent SQLite memory!\")"
   ]
  },
  {
   "cell_type": "markdown",
   "metadata": {},
   "source": [
    "## 9. Graph Visualization\n",
    "\n",
    "Visualize our persistent chatbot architecture:"
   ]
  },
  {
   "cell_type": "code",
   "execution_count": 10,
   "metadata": {},
   "outputs": [
    {
     "data": {
      "image/png": "[encoded data removed]",
      "text/plain": [
       "<IPython.core.display.Image object>"
      ]
     },
     "metadata": {},
     "output_type": "display_data"
    }
   ],
   "source": [
    "try:\n",
    "    display(Image(app.get_graph().draw_mermaid_png()))\n",
    "except Exception as e:\n",
    "    print(f\"Visualization error: {e}\")\n",
    "    print(\"\\nGraph Structure:\")\n",
    "    print(\"START → conversation_node → END\")\n",
    "    print(\"(with SqliteSaver checkpointer for persistent conversation storage)\")"
   ]
  },
  {
   "cell_type": "markdown",
   "metadata": {},
   "source": [
    "## 10. Testing Persistence\n",
    "\n",
    "Let's test the persistence capabilities by creating some conversation history.\n",
    "\n",
    "### Persistence Test Strategy:\n",
    "1. **Initial Conversation**: Create some conversation history\n",
    "2. **Verify Storage**: Confirm data is in the database\n",
    "3. **Simulate Restart**: Show how conversations resume\n",
    "4. **Multi-User Test**: Demonstrate thread isolation with persistence"
   ]
  },
  {
   "cell_type": "code",
   "execution_count": 11,
   "metadata": {},
   "outputs": [
    {
     "name": "stdout",
     "output_type": "stream",
     "text": [
      "🧪 Test 1: Creating Persistent Conversation History\n",
      "============================================================\n",
      "User: Hi! I'm Sarabjot, and I'm building a LangGraph learning repository. This is my first message in a persistent conversation.\n",
      "Assistant: Hi Sarabjot! Welcome back!\n",
      "\n",
      "I remember you're building a LangGraph learning repository. We've previously discussed SQLite persistence versus in-memory storage for LangGraph applications, covering the benefits of SQLite for data durability across sessions compared to faster but volatile in-memory storage.\n",
      "\n",
      "It's great to continue helping with your LangGraph learning repository. Since you mentioned this is your \"first message in a persistent conversation,\" I'm wondering if you might be testing the persistence aspects of conversation memory right now?\n",
      "\n",
      "Is there something specific about LangGraph you'd like to explore today? I'm happy to discuss any aspect of LangGraph, whether it's state management, agent workflows, the computational graph model, or implementation details for your repository.\n",
      "\n",
      "============================================================\n"
     ]
    }
   ],
   "source": [
    "from langchain_core.messages import HumanMessage\n",
    "\n",
    "# Test 1: Initial conversation to establish history\n",
    "print(\"🧪 Test 1: Creating Persistent Conversation History\")\n",
    "print(\"=\" * 60)\n",
    "\n",
    "initial_message = \"Hi! I'm Sarabjot, and I'm building a LangGraph learning repository. This is my first message in a persistent conversation.\"\n",
    "print(f\"User: {initial_message}\")\n",
    "\n",
    "for event in app.stream({\"messages\": [HumanMessage(content=initial_message)]}, config=config):\n",
    "    for value in event.values():\n",
    "        print(f\"Assistant: {value['messages'].content}\")\n",
    "\n",
    "print(\"\\n\" + \"=\" * 60)"
   ]
  },
  {
   "cell_type": "code",
   "execution_count": 12,
   "metadata": {},
   "outputs": [
    {
     "name": "stdout",
     "output_type": "stream",
     "text": [
      "🧪 Test 2: Building Conversation Context\n",
      "============================================================\n",
      "User: I'm particularly interested in how SQLite persistence works compared to in-memory storage. Can you explain the key differences?\n",
      "Assistant: Hi Sarabjot! I see you're asking about SQLite persistence versus in-memory storage again.\n",
      "\n",
      "As we discussed previously, here are the key differences:\n",
      "\n",
      "**SQLite Persistence:**\n",
      "- **Durability**: Data persists across application restarts or crashes\n",
      "- **Storage**: Information is saved to disk in a SQLite database file\n",
      "- **Memory Usage**: Lower memory footprint for large graphs as data lives primarily on disk\n",
      "- **Performance**: Slightly slower due to disk I/O operations\n",
      "- **Use Case**: Better for production applications, long-running conversations, or when recovering state is important\n",
      "\n",
      "**In-Memory Storage:**\n",
      "- **Speed**: Faster performance as everything stays in RAM\n",
      "- **Simplicity**: Easier to set up and use for development\n",
      "- **Volatility**: Data is lost when the application terminates\n",
      "- **Memory Usage**: Higher memory requirements as all data must fit in RAM\n",
      "- **Use Case**: Better for development, testing, or short-lived applications\n",
      "\n",
      "In LangGraph specifically, implementing SQLite persistence involves configuring a StateGraph with a SQLite persistence layer and providing session IDs to track conversation threads.\n",
      "\n",
      "For your learning repository, would you like me to provide a code example showing how to implement SQLite persistence in LangGraph? Or perhaps you're interested in more specific aspects of the implementation details?\n",
      "\n",
      "============================================================\n"
     ]
    }
   ],
   "source": [
    "# Test 2: Add more context to the conversation\n",
    "print(\"🧪 Test 2: Building Conversation Context\")\n",
    "print(\"=\" * 60)\n",
    "\n",
    "context_message = \"I'm particularly interested in how SQLite persistence works compared to in-memory storage. Can you explain the key differences?\"\n",
    "print(f\"User: {context_message}\")\n",
    "\n",
    "for event in app.stream({\"messages\": [HumanMessage(content=context_message)]}, config=config):\n",
    "    for value in event.values():\n",
    "        print(f\"Assistant: {value['messages'].content}\")\n",
    "\n",
    "print(\"\\n\" + \"=\" * 60)"
   ]
  },
  {
   "cell_type": "markdown",
   "metadata": {},
   "source": [
    "## 11. Simulating Application Restart\n",
    "\n",
    "Let's demonstrate how conversations persist by creating a new graph instance and resuming the conversation.\n",
    "\n",
    "### What This Demonstrates:\n",
    "- **True Persistence**: Conversation survives \"application restart\"\n",
    "- **Seamless Resume**: No loss of context or history\n",
    "- **Production Readiness**: Real-world restart scenarios"
   ]
  },
  {
   "cell_type": "code",
   "execution_count": 13,
   "metadata": {},
   "outputs": [
    {
     "name": "stdout",
     "output_type": "stream",
     "text": [
      "🔄 Simulating Application Restart...\n",
      "Creating new graph and memory instances...\n",
      "✅ New application instance created\n",
      "💾 Connected to same SQLite database\n"
     ]
    }
   ],
   "source": [
    "# Simulate application restart by creating new instances\n",
    "print(\"🔄 Simulating Application Restart...\")\n",
    "print(\"Creating new graph and memory instances...\")\n",
    "\n",
    "# Create new connection and memory (simulating restart)\n",
    "new_conn = sqlite3.connect(\"checkpointer.sqlite\", check_same_thread=False)\n",
    "new_memory = SqliteSaver(new_conn)\n",
    "\n",
    "# Create new graph instance\n",
    "new_graph = StateGraph(MyState)\n",
    "new_graph.add_node(\"conversation\", conversation_node)\n",
    "new_graph.add_edge(START, \"conversation\")\n",
    "new_graph.add_edge(\"conversation\", END)\n",
    "\n",
    "# Compile new app with new memory instance\n",
    "new_app = new_graph.compile(checkpointer=new_memory)\n",
    "\n",
    "print(\"✅ New application instance created\")\n",
    "print(\"💾 Connected to same SQLite database\")"
   ]
  },
  {
   "cell_type": "code",
   "execution_count": 14,
   "metadata": {},
   "outputs": [
    {
     "name": "stdout",
     "output_type": "stream",
     "text": [
      "🧪 Test 3: Resuming Conversation After 'Restart'\n",
      "============================================================\n",
      "User: I'm back! Do you remember our conversation about SQLite persistence? Can you summarize what we discussed?\n",
      "Assistant: Welcome back, Sarabjot! Yes, I remember our conversations about SQLite persistence in LangGraph.\n",
      "\n",
      "We've discussed this topic a couple of times now. I explained the key differences between SQLite persistence and in-memory storage:\n",
      "\n",
      "For SQLite persistence:\n",
      "- Provides data durability across application restarts\n",
      "- Stores information on disk in a SQLite database file\n",
      "- Has a lower memory footprint for large graphs\n",
      "- Is slightly slower due to disk operations\n",
      "- Is better suited for production applications and long-running conversations\n",
      "\n",
      "For in-memory storage:\n",
      "- Offers faster performance with data staying in RAM\n",
      "- Is simpler to set up for development\n",
      "- Loses all data when the application terminates\n",
      "- Requires more memory as all data must fit in RAM\n",
      "- Works well for development and testing environments\n",
      "\n",
      "We also talked about how LangGraph uses SQLite persistence to maintain conversation state and graph execution state across sessions, which is particularly valuable for applications where you need to continue conversations from where they left off.\n",
      "\n",
      "Is there a specific aspect of SQLite persistence you'd like to explore further for your LangGraph learning repository? Perhaps implementation details or best practices?\n",
      "\n",
      "✅ Conversation successfully resumed from persistent storage!\n",
      "\n",
      "============================================================\n"
     ]
    }
   ],
   "source": [
    "# Test 3: Resume conversation with new app instance\n",
    "print(\"🧪 Test 3: Resuming Conversation After 'Restart'\")\n",
    "print(\"=\" * 60)\n",
    "\n",
    "resume_message = \"I'm back! Do you remember our conversation about SQLite persistence? Can you summarize what we discussed?\"\n",
    "print(f\"User: {resume_message}\")\n",
    "\n",
    "# Use the same config (thread_id) with the new app instance\n",
    "for event in new_app.stream({\"messages\": [HumanMessage(content=resume_message)]}, config):\n",
    "    for value in event.values():\n",
    "        print(f\"Assistant: {value['messages'].content}\")\n",
    "\n",
    "print(\"\\n✅ Conversation successfully resumed from persistent storage!\")\n",
    "print(\"\\n\" + \"=\" * 60)"
   ]
  },
  {
   "cell_type": "markdown",
   "metadata": {},
   "source": [
    "## 12. Interactive Chat Interface\n",
    "\n",
    "Now let's create an interactive chat interface that demonstrates the full persistent conversation experience.\n",
    "\n",
    "### Interactive Features:\n",
    "- **Continuous Loop**: Chat until user types 'exit' or 'end'\n",
    "- **Real-time Persistence**: Every message is immediately saved\n",
    "- **User-friendly Interface**: Clear prompts and responses\n",
    "- **Graceful Exit**: Clean termination\n",
    "\n",
    "### Usage Instructions:\n",
    "1. Type your messages and press Enter\n",
    "2. The bot will respond and save the conversation\n",
    "3. Type 'exit' or 'end' to stop the chat\n",
    "4. Your conversation is automatically saved to SQLite"
   ]
  },
  {
   "cell_type": "code",
   "execution_count": 15,
   "metadata": {},
   "outputs": [
    {
     "name": "stdout",
     "output_type": "stream",
     "text": [
      " Interactive Persistent Chat Interface\n",
      "============================================================\n",
      "Type your messages and press Enter to chat.\n",
      "Type 'exit' or 'end' to stop the conversation.\n",
      "All messages are automatically saved to SQLite database.\n",
      "============================================================\n",
      "\n",
      " Assistant: Hi Sarabjot! Nice to see you again. \n",
      "\n",
      "We've been discussing your LangGraph learning repository project and specifically exploring SQLite persistence versus in-memory storage. Would you like to continue our conversation about LangGraph implementation details, or is there something else you'd like to discuss about your project today?\n",
      "\n",
      "I'm here to help with any questions you might have about LangGraph, state management in AI applications, or any other aspects of your learning repository.\n",
      "\n",
      " Assistant: Based on our previous conversations, here's what I know about you:\n",
      "\n",
      "You're Sarabjot, and you're working on building a LangGraph learning repository. You've shown particular interest in understanding how persistence works in LangGraph, especially the differences between SQLite persistence and in-memory storage.\n",
      "\n",
      "You seem to be methodically exploring LangGraph concepts, likely for educational purposes or as part of a development project. You've returned to our conversation multiple times, asking similar questions about persistence, which suggests you might be testing persistence features or building comprehensive documentation on this topic.\n",
      "\n",
      "Beyond that, I don't have specific details about your background, location, or other personal information. Is there anything specific about your project or goals with LangGraph that you'd like to share or discuss further?\n",
      "Please enter a message or type 'exit' to quit.\n",
      "\n",
      " Assistant: I see you've sent just \"q\". If you meant to quit or end our conversation, that's no problem. \n",
      "\n",
      "When you're ready to continue discussing your LangGraph learning repository, persistence mechanisms, or any other related topics, I'll be here to help. Feel free to return with any questions about implementing SQLite persistence, in-memory storage, or other aspects of LangGraph that you're exploring.\n",
      "\n",
      "Have a good day, Sarabjot!\n",
      "\n",
      "👋 Goodbye! Your conversation has been saved to the database.\n",
      "\n",
      " All conversation data is stored in 'checkpointer.sqlite'\n",
      " You can restart this notebook and resume the conversation anytime!\n"
     ]
    }
   ],
   "source": [
    "print(\" Interactive Persistent Chat Interface\")\n",
    "print(\"=\" * 60)\n",
    "print(\"Type your messages and press Enter to chat.\")\n",
    "print(\"Type 'exit' or 'end' to stop the conversation.\")\n",
    "print(\"All messages are automatically saved to SQLite database.\")\n",
    "print(\"=\" * 60)\n",
    "\n",
    "# Interactive chat loop\n",
    "while True:\n",
    "    try:\n",
    "        # Get user input\n",
    "        user_input = input(\"\\n👤 You: \").strip()\n",
    "        \n",
    "        # Check for exit conditions\n",
    "        if user_input.lower() in [\"end\", \"exit\", \"quit\", \"bye\"]:\n",
    "            print(\"\\n👋 Goodbye! Your conversation has been saved to the database.\")\n",
    "            break\n",
    "        \n",
    "        # Skip empty inputs\n",
    "        if not user_input:\n",
    "            print(\"Please enter a message or type 'exit' to quit.\")\n",
    "            continue\n",
    "        \n",
    "        # Process the message through our persistent chatbot\n",
    "        print(\"\\n Assistant: \", end=\"\")\n",
    "        \n",
    "        for event in new_app.stream({\"messages\": [HumanMessage(content=user_input)]}, config):\n",
    "            for value in event.values():\n",
    "                print(value['messages'].content)\n",
    "                \n",
    "    except KeyboardInterrupt:\n",
    "        print(\"\\n\\n Chat interrupted. Your conversation has been saved to the database.\")\n",
    "        break\n",
    "    except Exception as e:\n",
    "        print(f\"\\n❌ Error: {e}\")\n",
    "        print(\"Please try again or type 'exit' to quit.\")\n",
    "\n",
    "print(\"\\n All conversation data is stored in 'checkpointer.sqlite'\")\n",
    "print(\" You can restart this notebook and resume the conversation anytime!\")"
   ]
  },
  {
   "cell_type": "markdown",
   "metadata": {},
   "source": [
    "## 13. Database Inspection\n",
    "\n",
    "Let's examine what's actually stored in our SQLite database.\n",
    "\n",
    "### Database Schema:\n",
    "SqliteSaver creates tables to store:\n",
    "- **Checkpoints**: Conversation states at each step\n",
    "- **Metadata**: Thread information and timestamps\n",
    "- **Messages**: Individual conversation messages\n",
    "\n",
    "### Inspection Benefits:\n",
    "- **Debugging**: Understand how data is stored\n",
    "- **Analytics**: Query conversation patterns\n",
    "- **Monitoring**: Track usage and performance\n",
    "- **Backup Verification**: Ensure data integrity"
   ]
  },
  {
   "cell_type": "code",
   "execution_count": 16,
   "metadata": {},
   "outputs": [
    {
     "name": "stdout",
     "output_type": "stream",
     "text": [
      " Database Inspection\n",
      "==================================================\n",
      " Tables in database: 2\n",
      "  - checkpoints\n",
      "  - writes\n",
      "\n",
      " Total checkpoints stored: 50\n",
      "\n",
      "️ Could not inspect checkpoints: no such column: created_at\n",
      "This is normal if no conversations have been saved yet.\n",
      "\n",
      " Database inspection complete\n"
     ]
    }
   ],
   "source": [
    "# Inspect the database structure\n",
    "print(\" Database Inspection\")\n",
    "print(\"=\" * 50)\n",
    "\n",
    "# Get table names\n",
    "cursor = conn.cursor()\n",
    "cursor.execute(\"SELECT name FROM sqlite_master WHERE type='table';\")\n",
    "tables = cursor.fetchall()\n",
    "\n",
    "print(f\" Tables in database: {len(tables)}\")\n",
    "for table in tables:\n",
    "    print(f\"  - {table[0]}\")\n",
    "\n",
    "# Check if we have any checkpoints\n",
    "try:\n",
    "    cursor.execute(\"SELECT COUNT(*) FROM checkpoints;\")\n",
    "    checkpoint_count = cursor.fetchone()[0]\n",
    "    print(f\"\\n Total checkpoints stored: {checkpoint_count}\")\n",
    "    \n",
    "    # Show recent checkpoints for our thread\n",
    "    cursor.execute(\n",
    "        \"SELECT thread_id, checkpoint_id, created_at FROM checkpoints WHERE thread_id LIKE '%persistent_user_1%' ORDER BY created_at DESC LIMIT 5;\"\n",
    "    )\n",
    "    recent_checkpoints = cursor.fetchall()\n",
    "    \n",
    "    if recent_checkpoints:\n",
    "        print(f\"\\n Recent checkpoints for our conversation:\")\n",
    "        for checkpoint in recent_checkpoints:\n",
    "            print(f\"  Thread: {checkpoint[0][:30]}... | ID: {checkpoint[1][:8]}... | Time: {checkpoint[2]}\")\n",
    "    else:\n",
    "        print(\"\\n No checkpoints found for our thread (this is normal if you haven't chatted yet)\")\n",
    "        \n",
    "except Exception as e:\n",
    "    print(f\"\\n️ Could not inspect checkpoints: {e}\")\n",
    "    print(\"This is normal if no conversations have been saved yet.\")\n",
    "\n",
    "cursor.close()\n",
    "print(\"\\n Database inspection complete\")"
   ]
  },
  {
   "cell_type": "markdown",
   "metadata": {},
   "source": [
    "## Key Takeaways\n",
    "\n",
    "### What We Learned:\n",
    "\n",
    "1. **SqliteSaver**: Persistent conversation storage with SQLite\n",
    "2. **Database Persistence**: Conversations survive application restarts\n",
    "3. **Production Readiness**: Suitable for real-world deployment\n",
    "4. **Seamless Migration**: Easy upgrade from MemorySaver\n",
    "5. **Interactive Interfaces**: Building user-friendly chat experiences\n",
    "6. **Database Inspection**: Understanding the underlying storage\n",
    "\n",
    "### When to Use SqliteSaver:\n",
    "\n",
    "- **Production Applications**: When conversations must persist\n",
    "- **Multi-session Use**: Users return to previous conversations\n",
    "- **Analytics Requirements**: Need to analyze conversation data\n",
    "- **Backup Needs**: Important conversations must be preserved\n",
    "- **Compliance**: Audit trails and data retention requirements\n",
    "\n",
    "### Advantages Over MemorySaver:\n",
    "\n",
    "- **Persistence**: Data survives restarts and crashes\n",
    "- **Scalability**: Can handle larger conversation histories\n",
    "- **Analytics**: Query and analyze conversation data\n",
    "- **Backup**: Database can be backed up and restored\n",
    "- **Audit Trail**: Complete conversation history tracking\n",
    "\n",
    "\n",
    "### Best Practices Demonstrated:\n",
    "\n",
    "- **Connection Management**: Proper SQLite connection handling\n",
    "- **Thread Safety**: Using `check_same_thread=False`\n",
    "- **Error Handling**: Graceful handling of database errors\n",
    "- **User Experience**: Interactive chat interface design\n",
    "- **Data Inspection**: Tools for debugging and monitoring\n",
    "\n",
    "\n",
    "\n",
    "\n",
    "### Database Alternatives:\n",
    "\n",
    "- **PostgreSQL**: For larger scale and advanced features\n",
    "- **Redis**: For high-performance, distributed applications\n",
    "- **MongoDB**: For document-based conversation storage\n",
    "- **Cloud Databases**: AWS RDS, Google Cloud SQL, Azure SQL\n",
    "- **Vector Databases**: For semantic search capabilities"
   ]
  }
 ],
 "metadata": {
  "kernelspec": {
   "display_name": ".venv",
   "language": "python",
   "name": "python3"
  },
  "language_info": {
   "codemirror_mode": {
    "name": "ipython",
    "version": 3
   },
   "file_extension": ".py",
   "mimetype": "text/x-python",
   "name": "python",
   "nbconvert_exporter": "python",
   "pygments_lexer": "ipython3",
   "version": "3.12.4"
  }
 },
 "nbformat": 4,
 "nbformat_minor": 4
}
