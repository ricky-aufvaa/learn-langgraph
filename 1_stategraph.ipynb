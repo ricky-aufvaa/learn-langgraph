{
 "cells": [
  {
   "cell_type": "markdown",
   "id": "main-title",
   "metadata": {},
   "source": [
    "# LangGraph Fundamentals: StateGraph and Conditional Edges\n",
    "\n",
    "This notebook introduces the core concepts of LangGraph:\n",
    "- **StateGraph**: The foundation of LangGraph applications\n",
    "- **State Management**: How data flows through your graph\n",
    "- **Nodes**: Individual processing units\n",
    "- **Conditional Edges**: Dynamic routing based on state\n",
    "- **Graph Compilation**: Converting your graph definition into an executable application\n",
    "\n",
    "## What is LangGraph?\n",
    "\n",
    "LangGraph is a library for building stateful, multi-actor applications with LLMs. It extends LangChain's expression language with the ability to coordinate multiple chains (or actors) across multiple steps of computation in a cyclic manner.\n",
    "\n",
    "### Key Concepts:\n",
    "- **State**: Shared data structure that persists across nodes\n",
    "- **Nodes**: Functions that process and modify the state\n",
    "- **Edges**: Connections between nodes that determine execution flow\n",
    "- **Conditional Edges**: Dynamic routing based on state values"
   ]
  },
  {
   "cell_type": "markdown",
   "id": "imports-section",
   "metadata": {},
   "source": [
    "## 1. Essential Imports\n",
    "\n",
    "Let's start by importing the necessary components from LangGraph:"
   ]
  },
  {
   "cell_type": "code",
   "execution_count": null,
   "id": "imports",
   "metadata": {},
   "outputs": [],
   "source": [
    "from langgraph.graph import StateGraph, START, END\n",
    "from typing import TypedDict\n",
    "from IPython.display import Image, display"
   ]
  },
  {
   "cell_type": "markdown",
   "id": "state-definition",
   "metadata": {},
   "source": [
    "## 2. Defining the State\n",
    "\n",
    "The **State** is the central data structure that flows through your graph. It's shared across all nodes and persists throughout the execution.\n",
    "\n",
    "### Why TypedDict?\n",
    "- **Type Safety**: Ensures your state has the expected structure\n",
    "- **IDE Support**: Better autocomplete and error detection\n",
    "- **Documentation**: Makes it clear what data your graph expects\n",
    "\n",
    "### Alternative Approaches:\n",
    "- **Regular Dict**: Less type safety but more flexible\n",
    "- **Pydantic Models**: More validation but heavier\n",
    "- **Custom Classes**: Maximum control but more complex"
   ]
  },
  {
   "cell_type": "code",
   "execution_count": null,
   "id": "state-class",
   "metadata": {},
   "outputs": [],
   "source": [
    "class MyState(TypedDict):\n",
    "    \"\"\"State definition for our counter example.\n",
    "    \n",
    "    This state will track a single integer that gets incremented\n",
    "    until it reaches a certain threshold.\n",
    "    \"\"\"\n",
    "    count: int"
   ]
  },
  {
   "cell_type": "markdown",
   "id": "nodes-section",
   "metadata": {},
   "source": [
    "## 3. Creating Nodes\n",
    "\n",
    "**Nodes** are functions that:\n",
    "1. Receive the current state as input\n",
    "2. Process or modify the state\n",
    "3. Return the updated state (or partial state)\n",
    "\n",
    "### Node Function Requirements:\n",
    "- Must accept state as first parameter\n",
    "- Must return a dictionary that updates the state\n",
    "- Should be pure functions when possible (no side effects)\n",
    "\n",
    "### Best Practices:\n",
    "- Keep nodes focused on a single responsibility\n",
    "- Use descriptive function names\n",
    "- Add type hints for better code clarity"
   ]
  },
  {
   "cell_type": "code",
   "execution_count": null,
   "id": "increment-node",
   "metadata": {},
   "outputs": [],
   "source": [
    "def increaseCount(state: MyState) -> MyState:\n",
    "    \"\"\"Increment the count by 1.\n",
    "    \n",
    "    This node demonstrates basic state modification.\n",
    "    It takes the current count and increases it by 1.\n",
    "    \n",
    "    Args:\n",
    "        state: Current state containing the count\n",
    "        \n",
    "    Returns:\n",
    "        Updated state with incremented count\n",
    "    \"\"\"\n",
    "    print(f\"Current count: {state['count']} -> {state['count'] + 1}\")\n",
    "    \n",
    "    # Return the updated state\n",
    "    # Note: We can return just the fields we want to update\n",
    "    return {\"count\": state[\"count\"] + 1}"
   ]
  },
  {
   "cell_type": "markdown",
   "id": "conditional-logic",
   "metadata": {},
   "source": [
    "## 4. Conditional Logic Functions\n",
    "\n",
    "**Conditional functions** determine the next step in your graph based on the current state. They're used with `add_conditional_edges()` to create dynamic routing.\n",
    "\n",
    "### Key Points:\n",
    "- Must return a string that matches an edge mapping\n",
    "- Should be deterministic (same input = same output)\n",
    "- Can return special values like `END` to terminate the graph\n",
    "\n",
    "### When to Use Conditional Edges:\n",
    "- **Loops**: When you need to repeat operations\n",
    "- **Branching**: When different conditions require different processing\n",
    "- **Termination**: When you need to stop based on certain criteria"
   ]
  },
  {
   "cell_type": "code",
   "execution_count": null,
   "id": "condition-function",
   "metadata": {},
   "outputs": [],
   "source": [
    "def condition(state: MyState) -> str:\n",
    "    \"\"\"Determine whether to continue incrementing or stop.\n",
    "    \n",
    "    This function implements the termination logic for our counter.\n",
    "    It demonstrates how to create loops and conditional termination.\n",
    "    \n",
    "    Args:\n",
    "        state: Current state containing the count\n",
    "        \n",
    "    Returns:\n",
    "        \"continue\" if count < 3, \"stop\" otherwise\n",
    "    \"\"\"\n",
    "    if state[\"count\"] < 3:\n",
    "        print(f\"Count is {state['count']}, continuing...\")\n",
    "        return \"continue\"\n",
    "    else:\n",
    "        print(f\"Count reached {state['count']}, stopping.\")\n",
    "        return \"stop\""
   ]
  },
  {
   "cell_type": "markdown",
   "id": "graph-construction",
   "metadata": {},
   "source": [
    "## 5. Building the Graph\n",
    "\n",
    "Now we'll construct our StateGraph by:\n",
    "1. Creating a StateGraph instance with our state type\n",
    "2. Adding nodes (processing functions)\n",
    "3. Setting the entry point\n",
    "4. Adding conditional edges for dynamic routing\n",
    "5. Compiling the graph into an executable application\n",
    "\n",
    "### Graph Components:\n",
    "- **StateGraph(MyState)**: Creates a graph that manages MyState\n",
    "- **add_node()**: Registers a function as a processing node\n",
    "- **set_entry_point()**: Defines where execution begins\n",
    "- **add_conditional_edges()**: Creates dynamic routing based on conditions\n",
    "- **compile()**: Converts the graph definition into an executable app"
   ]
  },
  {
   "cell_type": "code",
   "execution_count": null,
   "id": "graph-builder",
   "metadata": {},
   "outputs": [],
   "source": [
    "def get_graph():\n",
    "    \"\"\"Build and return a compiled StateGraph.\n",
    "    \n",
    "    This function demonstrates the complete graph construction process:\n",
    "    1. Initialize the graph with our state type\n",
    "    2. Add our processing node\n",
    "    3. Set the starting point\n",
    "    4. Add conditional routing logic\n",
    "    5. Compile into an executable application\n",
    "    \n",
    "    Returns:\n",
    "        Compiled graph ready for execution\n",
    "    \"\"\"\n",
    "    # Step 1: Create StateGraph with our state type\n",
    "    graph = StateGraph(MyState)\n",
    "    \n",
    "    # Step 2: Add our increment node\n",
    "    graph.add_node(\"increment\", increaseCount)\n",
    "    \n",
    "    # Step 3: Set entry point (where execution starts)\n",
    "    graph.set_entry_point(\"increment\")\n",
    "    \n",
    "    # Step 4: Add conditional edges for dynamic routing\n",
    "    graph.add_conditional_edges(\n",
    "        \"increment\",  # From this node\n",
    "        condition,    # Use this function to decide\n",
    "        {\n",
    "            \"continue\": \"increment\",  # Loop back to increment\n",
    "            \"stop\": END               # Terminate the graph\n",
    "        }\n",
    "    )\n",
    "    \n",
    "    # Step 5: Compile the graph\n",
    "    app = graph.compile()\n",
    "    return app"
   ]
  },
  {
   "cell_type": "markdown",
   "id": "visualization",
   "metadata": {},
   "source": [
    "## 6. Graph Visualization\n",
    "\n",
    "LangGraph provides built-in visualization capabilities to help you understand your graph structure.\n",
    "\n",
    "### Visualization Benefits:\n",
    "- **Debug Complex Flows**: See how data moves through your graph\n",
    "- **Documentation**: Visual representation for team members\n",
    "- **Validation**: Ensure your graph structure matches your intentions\n",
    "\n",
    "### Alternative Visualization Methods:\n",
    "- `draw_ascii()`: Text-based visualization for terminals\n",
    "- `draw_mermaid()`: Mermaid diagram format\n",
    "- `draw_mermaid_png()`: PNG image (requires additional dependencies)"
   ]
  },
  {
   "cell_type": "code",
   "execution_count": null,
   "id": "visualization-code",
   "metadata": {},
   "outputs": [],
   "source": [
    "# Create our graph\n",
    "graph = get_graph()\n",
    "\n",
    "# Display the graph structure visually\n",
    "try:\n",
    "    display(Image(graph.get_graph().draw_mermaid_png()))\n",
    "except Exception as e:\n",
    "    print(f\"Visualization error: {e}\")\n",
    "    print(\"\\nGraph structure (text format):\")\n",
    "    print(\"START -> increment -> [condition] -> increment (if continue) or END (if stop)\")"
   ]
  },
  {
   "cell_type": "markdown",
   "id": "execution",
   "metadata": {},
   "source": [
    "## 7. Graph Execution\n",
    "\n",
    "Now let's execute our graph and see it in action!\n",
    "\n",
    "### Execution Methods:\n",
    "- **invoke()**: Run the graph once with initial state\n",
    "- **stream()**: Get intermediate results as the graph executes\n",
    "- **ainvoke()**: Async version of invoke\n",
    "- **astream()**: Async version of stream\n",
    "\n",
    "### What Happens During Execution:\n",
    "1. Graph starts with our initial state `{\"count\": 0}`\n",
    "2. Executes the \"increment\" node (count becomes 1)\n",
    "3. Runs the condition function (returns \"continue\")\n",
    "4. Routes back to \"increment\" node (count becomes 2)\n",
    "5. Runs condition again (returns \"continue\")\n",
    "6. Routes back to \"increment\" node (count becomes 3)\n",
    "7. Runs condition again (returns \"stop\")\n",
    "8. Routes to END, terminating execution"
   ]
  },
  {
   "cell_type": "code",
   "execution_count": null,
   "id": "execution-code",
   "metadata": {},
   "outputs": [],
   "source": [
    "# Define our initial state\n",
    "initial_state = {\n",
    "    \"count\": 0\n",
    "}\n",
    "\n",
    "print(\"Starting graph execution...\")\n",
    "print(f\"Initial state: {initial_state}\")\n",
    "print(\"\\n--- Execution Log ---\")\n",
    "\n",
    "# Execute the graph\n",
    "final_result = graph.invoke(initial_state)\n",
    "\n",
    "print(\"\\n--- Final Result ---\")\n",
    "print(f\"Final state: {final_result}\")"
   ]
  },
  {
   "cell_type": "markdown",
   "id": "streaming-execution",
   "metadata": {},
   "source": [
    "## 8. Streaming Execution (Optional)\n",
    "\n",
    "For more detailed insight into the execution process, we can use streaming to see intermediate states:"
   ]
  },
  {
   "cell_type": "code",
   "execution_count": null,
   "id": "streaming-code",
   "metadata": {},
   "outputs": [],
   "source": [
    "print(\"\\n=== Streaming Execution ===\")\n",
    "print(\"This shows each step of the graph execution:\\n\")\n",
    "\n",
    "# Reset initial state\n",
    "initial_state = {\"count\": 0}\n",
    "\n",
    "# Stream the execution to see intermediate steps\n",
    "for i, step in enumerate(graph.stream(initial_state)):\n",
    "    print(f\"Step {i + 1}: {step}\")"
   ]
  },
  {
   "cell_type": "markdown",
   "id": "key-takeaways",
   "metadata": {},
   "source": [
    "## Key Takeaways\n",
    "\n",
    "### What We Learned:\n",
    "1. **StateGraph Basics**: How to create and structure a LangGraph application\n",
    "2. **State Management**: Using TypedDict for type-safe state definitions\n",
    "3. **Node Functions**: Creating processing units that modify state\n",
    "4. **Conditional Routing**: Using conditional edges for dynamic flow control\n",
    "5. **Graph Compilation**: Converting definitions into executable applications\n",
    "6. **Execution Methods**: Different ways to run your graph\n",
    "\n",
    "### When to Use This Pattern:\n",
    "- **Iterative Processing**: When you need to repeat operations until a condition is met\n",
    "- **State Machines**: When your application has distinct states and transitions\n",
    "- **Multi-Step Workflows**: When you need to coordinate multiple processing steps\n",
    "\n",
    "### Next Steps:\n",
    "- **Notebook 2**: Learn about structured output and tool integration\n",
    "- **Notebook 3**: Build chatbots with LangGraph\n",
    "- **Notebook 4**: Add memory and persistence to your applications\n",
    "\n",
    "### Common Patterns:\n",
    "- **Validation Loops**: Keep processing until data meets criteria\n",
    "- **Retry Logic**: Attempt operations with fallback strategies\n",
    "- **Progressive Enhancement**: Gradually improve results through iterations"
   ]
  }
 ],
 "metadata": {
  "kernelspec": {
   "display_name": "Python 3",
   "language": "python",
   "name": "python3"
  },
  "language_info": {
   "codemirror_mode": {
    "name": "ipython",
    "version": 3
   },
   "file_extension": ".py",
   "mimetype": "text/x-python",
   "name": "python",
   "nbconvert_exporter": "python",
   "pygments_lexer": "ipython3",
   "version": "3.8.0"
  }
 },
 "nbformat": 4,
 "nbformat_minor": 5
}
